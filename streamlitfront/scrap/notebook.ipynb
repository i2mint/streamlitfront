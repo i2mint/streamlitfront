{
 "cells": [
  {
   "cell_type": "code",
   "execution_count": 7,
   "metadata": {},
   "outputs": [],
   "source": [
    "from typing import Literal, Optional\n",
    "from front import APP_KEY, RENDERING_KEY, ELEMENT_KEY\n",
    "\n",
    "from streamlitfront.elements import FloatSliderInput\n",
    "from streamlitfront.base import mk_app\n",
    "from streamlitfront.elements.elements import TextInput\n",
    "\n",
    "# BACKEND\n",
    "def foo(a: int = 1, b: int = 2, c=3):\n",
    "    \"\"\"This is foo. It computes something\"\"\"\n",
    "    return (a * b) + c\n",
    "\n",
    "\n",
    "def bar(x, greeting):\n",
    "    \"\"\"bar greets its input\"\"\"\n",
    "    return f'{greeting} {x}'\n",
    "\n",
    "\n",
    "def confuser(a: int, x: float = 3.14):\n",
    "    return (a ** 2) * x\n",
    "\n",
    "\n",
    "def proportion(x: int = 100, p: float = 0.5):\n",
    "    return x * p\n",
    "\n",
    "\n",
    "# ======\n",
    "\n",
    "if __name__ == '__main__':\n",
    "    all_dict = locals()\n",
    "    app = mk_app(\n",
    "        [foo, bar, confuser, proportion],\n",
    "        config={\n",
    "            APP_KEY: {'title': 'My app'},\n",
    "            RENDERING_KEY: {\n",
    "                # 'foo': {\n",
    "                #     'execution': {'inputs': {'a': {ELEMENT_KEY: TextInput,}},}\n",
    "                # },\n",
    "                'proportion': {\n",
    "                    'execution': {'inputs': {'p': {ELEMENT_KEY: FloatSliderInput,}},}\n",
    "                }\n",
    "            },\n",
    "        },\n",
    "    )\n",
    "    #app()\n"
   ]
  },
  {
   "cell_type": "code",
   "execution_count": 2,
   "metadata": {},
   "outputs": [
    {
     "data": {
      "text/plain": [
       "App(obj=None, name='My app')"
      ]
     },
     "execution_count": 2,
     "metadata": {},
     "output_type": "execute_result"
    }
   ],
   "source": [
    "app"
   ]
  },
  {
   "cell_type": "code",
   "execution_count": 8,
   "metadata": {},
   "outputs": [
    {
     "data": {
      "text/plain": [
       "{'__name__': '__main__',\n",
       " '__doc__': 'Automatically created module for IPython interactive environment',\n",
       " '__package__': None,\n",
       " '__loader__': None,\n",
       " '__spec__': None,\n",
       " '__builtin__': <module 'builtins' (built-in)>,\n",
       " '__builtins__': <module 'builtins' (built-in)>,\n",
       " '_ih': ['',\n",
       "  'from typing import Literal, Optional\\nfrom front import APP_KEY, RENDERING_KEY, ELEMENT_KEY\\n\\nfrom streamlitfront.elements import FloatSliderInput\\nfrom streamlitfront.base import mk_app\\nfrom streamlitfront.elements.elements import TextInput\\n\\n# BACKEND\\ndef foo(a: int = 1, b: int = 2, c=3):\\n    \"\"\"This is foo. It computes something\"\"\"\\n    return (a * b) + c\\n\\n\\ndef bar(x, greeting):\\n    \"\"\"bar greets its input\"\"\"\\n    return f\\'{greeting} {x}\\'\\n\\n\\ndef confuser(a: int, x: float = 3.14):\\n    return (a ** 2) * x\\n\\n\\ndef proportion(x: int = 100, p: float = 0.5):\\n    return x * p\\n\\n\\n# ======\\n\\nif __name__ == \\'__main__\\':\\n\\n    app = mk_app(\\n        [foo, bar, confuser, proportion],\\n        config={\\n            APP_KEY: {\\'title\\': \\'My app\\'},\\n            RENDERING_KEY: {\\n                # \\'foo\\': {\\n                #     \\'execution\\': {\\'inputs\\': {\\'a\\': {ELEMENT_KEY: TextInput,}},}\\n                # },\\n                \\'proportion\\': {\\n                    \\'execution\\': {\\'inputs\\': {\\'p\\': {ELEMENT_KEY: FloatSliderInput,}},}\\n                }\\n            },\\n        },\\n    )\\n    #app()',\n",
       "  'app',\n",
       "  'dir(app)',\n",
       "  'app.app_spec',\n",
       "  'app.element_tree',\n",
       "  'app',\n",
       "  'from typing import Literal, Optional\\nfrom front import APP_KEY, RENDERING_KEY, ELEMENT_KEY\\n\\nfrom streamlitfront.elements import FloatSliderInput\\nfrom streamlitfront.base import mk_app\\nfrom streamlitfront.elements.elements import TextInput\\n\\n# BACKEND\\ndef foo(a: int = 1, b: int = 2, c=3):\\n    \"\"\"This is foo. It computes something\"\"\"\\n    return (a * b) + c\\n\\n\\ndef bar(x, greeting):\\n    \"\"\"bar greets its input\"\"\"\\n    return f\\'{greeting} {x}\\'\\n\\n\\ndef confuser(a: int, x: float = 3.14):\\n    return (a ** 2) * x\\n\\n\\ndef proportion(x: int = 100, p: float = 0.5):\\n    return x * p\\n\\n\\n# ======\\n\\nif __name__ == \\'__main__\\':\\n    all_dict = locals()\\n    app = mk_app(\\n        [foo, bar, confuser, proportion],\\n        config={\\n            APP_KEY: {\\'title\\': \\'My app\\'},\\n            RENDERING_KEY: {\\n                # \\'foo\\': {\\n                #     \\'execution\\': {\\'inputs\\': {\\'a\\': {ELEMENT_KEY: TextInput,}},}\\n                # },\\n                \\'proportion\\': {\\n                    \\'execution\\': {\\'inputs\\': {\\'p\\': {ELEMENT_KEY: FloatSliderInput,}},}\\n                }\\n            },\\n        },\\n    )\\n    #app()',\n",
       "  'all_dict'],\n",
       " '_oh': {2: App(obj=None, name='My app'),\n",
       "  3: ['__abstractmethods__',\n",
       "   '__annotations__',\n",
       "   '__call__',\n",
       "   '__class__',\n",
       "   '__dataclass_fields__',\n",
       "   '__dataclass_params__',\n",
       "   '__delattr__',\n",
       "   '__dict__',\n",
       "   '__dir__',\n",
       "   '__doc__',\n",
       "   '__eq__',\n",
       "   '__format__',\n",
       "   '__ge__',\n",
       "   '__getattribute__',\n",
       "   '__gt__',\n",
       "   '__hash__',\n",
       "   '__init__',\n",
       "   '__init_subclass__',\n",
       "   '__le__',\n",
       "   '__lt__',\n",
       "   '__module__',\n",
       "   '__ne__',\n",
       "   '__new__',\n",
       "   '__post_init__',\n",
       "   '__reduce__',\n",
       "   '__reduce_ex__',\n",
       "   '__repr__',\n",
       "   '__setattr__',\n",
       "   '__sizeof__',\n",
       "   '__slots__',\n",
       "   '__str__',\n",
       "   '__subclasshook__',\n",
       "   '__weakref__',\n",
       "   '_abc_impl',\n",
       "   '_render_children',\n",
       "   'app_spec',\n",
       "   'children',\n",
       "   'element_tree',\n",
       "   'name',\n",
       "   'obj',\n",
       "   'post_render',\n",
       "   'pre_render',\n",
       "   'render'],\n",
       "  4: {'title': 'My app'},\n",
       "  5: App(obj=None, name='My app'),\n",
       "  6: App(obj=None, name='My app')},\n",
       " '_dh': [PosixPath('/Users/sylvain/Desktop/dev/otosense/streamlitfront/streamlitfront/scrap')],\n",
       " 'In': ['',\n",
       "  'from typing import Literal, Optional\\nfrom front import APP_KEY, RENDERING_KEY, ELEMENT_KEY\\n\\nfrom streamlitfront.elements import FloatSliderInput\\nfrom streamlitfront.base import mk_app\\nfrom streamlitfront.elements.elements import TextInput\\n\\n# BACKEND\\ndef foo(a: int = 1, b: int = 2, c=3):\\n    \"\"\"This is foo. It computes something\"\"\"\\n    return (a * b) + c\\n\\n\\ndef bar(x, greeting):\\n    \"\"\"bar greets its input\"\"\"\\n    return f\\'{greeting} {x}\\'\\n\\n\\ndef confuser(a: int, x: float = 3.14):\\n    return (a ** 2) * x\\n\\n\\ndef proportion(x: int = 100, p: float = 0.5):\\n    return x * p\\n\\n\\n# ======\\n\\nif __name__ == \\'__main__\\':\\n\\n    app = mk_app(\\n        [foo, bar, confuser, proportion],\\n        config={\\n            APP_KEY: {\\'title\\': \\'My app\\'},\\n            RENDERING_KEY: {\\n                # \\'foo\\': {\\n                #     \\'execution\\': {\\'inputs\\': {\\'a\\': {ELEMENT_KEY: TextInput,}},}\\n                # },\\n                \\'proportion\\': {\\n                    \\'execution\\': {\\'inputs\\': {\\'p\\': {ELEMENT_KEY: FloatSliderInput,}},}\\n                }\\n            },\\n        },\\n    )\\n    #app()',\n",
       "  'app',\n",
       "  'dir(app)',\n",
       "  'app.app_spec',\n",
       "  'app.element_tree',\n",
       "  'app',\n",
       "  'from typing import Literal, Optional\\nfrom front import APP_KEY, RENDERING_KEY, ELEMENT_KEY\\n\\nfrom streamlitfront.elements import FloatSliderInput\\nfrom streamlitfront.base import mk_app\\nfrom streamlitfront.elements.elements import TextInput\\n\\n# BACKEND\\ndef foo(a: int = 1, b: int = 2, c=3):\\n    \"\"\"This is foo. It computes something\"\"\"\\n    return (a * b) + c\\n\\n\\ndef bar(x, greeting):\\n    \"\"\"bar greets its input\"\"\"\\n    return f\\'{greeting} {x}\\'\\n\\n\\ndef confuser(a: int, x: float = 3.14):\\n    return (a ** 2) * x\\n\\n\\ndef proportion(x: int = 100, p: float = 0.5):\\n    return x * p\\n\\n\\n# ======\\n\\nif __name__ == \\'__main__\\':\\n    all_dict = locals()\\n    app = mk_app(\\n        [foo, bar, confuser, proportion],\\n        config={\\n            APP_KEY: {\\'title\\': \\'My app\\'},\\n            RENDERING_KEY: {\\n                # \\'foo\\': {\\n                #     \\'execution\\': {\\'inputs\\': {\\'a\\': {ELEMENT_KEY: TextInput,}},}\\n                # },\\n                \\'proportion\\': {\\n                    \\'execution\\': {\\'inputs\\': {\\'p\\': {ELEMENT_KEY: FloatSliderInput,}},}\\n                }\\n            },\\n        },\\n    )\\n    #app()',\n",
       "  'all_dict'],\n",
       " 'Out': {2: App(obj=None, name='My app'),\n",
       "  3: ['__abstractmethods__',\n",
       "   '__annotations__',\n",
       "   '__call__',\n",
       "   '__class__',\n",
       "   '__dataclass_fields__',\n",
       "   '__dataclass_params__',\n",
       "   '__delattr__',\n",
       "   '__dict__',\n",
       "   '__dir__',\n",
       "   '__doc__',\n",
       "   '__eq__',\n",
       "   '__format__',\n",
       "   '__ge__',\n",
       "   '__getattribute__',\n",
       "   '__gt__',\n",
       "   '__hash__',\n",
       "   '__init__',\n",
       "   '__init_subclass__',\n",
       "   '__le__',\n",
       "   '__lt__',\n",
       "   '__module__',\n",
       "   '__ne__',\n",
       "   '__new__',\n",
       "   '__post_init__',\n",
       "   '__reduce__',\n",
       "   '__reduce_ex__',\n",
       "   '__repr__',\n",
       "   '__setattr__',\n",
       "   '__sizeof__',\n",
       "   '__slots__',\n",
       "   '__str__',\n",
       "   '__subclasshook__',\n",
       "   '__weakref__',\n",
       "   '_abc_impl',\n",
       "   '_render_children',\n",
       "   'app_spec',\n",
       "   'children',\n",
       "   'element_tree',\n",
       "   'name',\n",
       "   'obj',\n",
       "   'post_render',\n",
       "   'pre_render',\n",
       "   'render'],\n",
       "  4: {'title': 'My app'},\n",
       "  5: App(obj=None, name='My app'),\n",
       "  6: App(obj=None, name='My app')},\n",
       " 'get_ipython': <bound method InteractiveShell.get_ipython of <ipykernel.zmqshell.ZMQInteractiveShell object at 0x7f94f1621f70>>,\n",
       " 'exit': <IPython.core.autocall.ZMQExitAutocall at 0x7f94f1542790>,\n",
       " 'quit': <IPython.core.autocall.ZMQExitAutocall at 0x7f94f1542790>,\n",
       " '_': App(obj=None, name='My app'),\n",
       " '__': App(obj=None, name='My app'),\n",
       " '___': {'title': 'My app'},\n",
       " 'mitosheet': <module 'mitosheet' (namespace)>,\n",
       " 'pd': <module 'pandas' from '/Users/sylvain/opt/anaconda3/envs/otopy38/lib/python3.8/site-packages/pandas/__init__.py'>,\n",
       " 'uuid': <module 'uuid' from '/Users/sylvain/opt/anaconda3/envs/otopy38/lib/python3.8/uuid.py'>,\n",
       " 'add_mito_button_to_df_output': <function __main__.add_mito_button_to_df_output(obj)>,\n",
       " 'html_formatter': <IPython.core.formatters.HTMLFormatter at 0x7f94f32172b0>,\n",
       " 'os': <module 'os' from '/Users/sylvain/opt/anaconda3/envs/otopy38/lib/python3.8/os.py'>,\n",
       " 'sys': <module 'sys' (built-in)>,\n",
       " '__vsc_ipynb_file__': '/Users/sylvain/Desktop/dev/otosense/streamlitfront/streamlitfront/scrap/notebook.ipynb',\n",
       " '_i': 'from typing import Literal, Optional\\nfrom front import APP_KEY, RENDERING_KEY, ELEMENT_KEY\\n\\nfrom streamlitfront.elements import FloatSliderInput\\nfrom streamlitfront.base import mk_app\\nfrom streamlitfront.elements.elements import TextInput\\n\\n# BACKEND\\ndef foo(a: int = 1, b: int = 2, c=3):\\n    \"\"\"This is foo. It computes something\"\"\"\\n    return (a * b) + c\\n\\n\\ndef bar(x, greeting):\\n    \"\"\"bar greets its input\"\"\"\\n    return f\\'{greeting} {x}\\'\\n\\n\\ndef confuser(a: int, x: float = 3.14):\\n    return (a ** 2) * x\\n\\n\\ndef proportion(x: int = 100, p: float = 0.5):\\n    return x * p\\n\\n\\n# ======\\n\\nif __name__ == \\'__main__\\':\\n    all_dict = locals()\\n    app = mk_app(\\n        [foo, bar, confuser, proportion],\\n        config={\\n            APP_KEY: {\\'title\\': \\'My app\\'},\\n            RENDERING_KEY: {\\n                # \\'foo\\': {\\n                #     \\'execution\\': {\\'inputs\\': {\\'a\\': {ELEMENT_KEY: TextInput,}},}\\n                # },\\n                \\'proportion\\': {\\n                    \\'execution\\': {\\'inputs\\': {\\'p\\': {ELEMENT_KEY: FloatSliderInput,}},}\\n                }\\n            },\\n        },\\n    )\\n    #app()',\n",
       " '_ii': 'app',\n",
       " '_iii': 'app.element_tree',\n",
       " '_i1': 'from typing import Literal, Optional\\nfrom front import APP_KEY, RENDERING_KEY, ELEMENT_KEY\\n\\nfrom streamlitfront.elements import FloatSliderInput\\nfrom streamlitfront.base import mk_app\\nfrom streamlitfront.elements.elements import TextInput\\n\\n# BACKEND\\ndef foo(a: int = 1, b: int = 2, c=3):\\n    \"\"\"This is foo. It computes something\"\"\"\\n    return (a * b) + c\\n\\n\\ndef bar(x, greeting):\\n    \"\"\"bar greets its input\"\"\"\\n    return f\\'{greeting} {x}\\'\\n\\n\\ndef confuser(a: int, x: float = 3.14):\\n    return (a ** 2) * x\\n\\n\\ndef proportion(x: int = 100, p: float = 0.5):\\n    return x * p\\n\\n\\n# ======\\n\\nif __name__ == \\'__main__\\':\\n\\n    app = mk_app(\\n        [foo, bar, confuser, proportion],\\n        config={\\n            APP_KEY: {\\'title\\': \\'My app\\'},\\n            RENDERING_KEY: {\\n                # \\'foo\\': {\\n                #     \\'execution\\': {\\'inputs\\': {\\'a\\': {ELEMENT_KEY: TextInput,}},}\\n                # },\\n                \\'proportion\\': {\\n                    \\'execution\\': {\\'inputs\\': {\\'p\\': {ELEMENT_KEY: FloatSliderInput,}},}\\n                }\\n            },\\n        },\\n    )\\n    #app()',\n",
       " 'Literal': typing.Literal,\n",
       " 'Optional': typing.Optional,\n",
       " 'APP_KEY': 'app',\n",
       " 'RENDERING_KEY': 'rendering',\n",
       " 'ELEMENT_KEY': '_front_element',\n",
       " 'FloatSliderInput': front.elements.implementation.implement_component.<locals>.component_class,\n",
       " 'mk_app': <function streamlitfront.base.mk_app(objs: Iterable, config: Union[NoneType, Mapping, Callable[[], Mapping]] = None, convention: Union[NoneType, Mapping, Callable[[], Mapping]] = None)>,\n",
       " 'TextInput': front.elements.implementation.implement_component.<locals>.component_class,\n",
       " 'foo': <function __main__.foo(a: int = 1, b: int = 2, c=3)>,\n",
       " 'bar': <function __main__.bar(x, greeting)>,\n",
       " 'confuser': <function __main__.confuser(a: int, x: float = 3.14)>,\n",
       " 'proportion': <function __main__.proportion(x: int = 100, p: float = 0.5)>,\n",
       " 'app': App(obj=None, name='My app'),\n",
       " '_i2': 'app',\n",
       " '_2': App(obj=None, name='My app'),\n",
       " '_i3': 'dir(app)',\n",
       " '_3': ['__abstractmethods__',\n",
       "  '__annotations__',\n",
       "  '__call__',\n",
       "  '__class__',\n",
       "  '__dataclass_fields__',\n",
       "  '__dataclass_params__',\n",
       "  '__delattr__',\n",
       "  '__dict__',\n",
       "  '__dir__',\n",
       "  '__doc__',\n",
       "  '__eq__',\n",
       "  '__format__',\n",
       "  '__ge__',\n",
       "  '__getattribute__',\n",
       "  '__gt__',\n",
       "  '__hash__',\n",
       "  '__init__',\n",
       "  '__init_subclass__',\n",
       "  '__le__',\n",
       "  '__lt__',\n",
       "  '__module__',\n",
       "  '__ne__',\n",
       "  '__new__',\n",
       "  '__post_init__',\n",
       "  '__reduce__',\n",
       "  '__reduce_ex__',\n",
       "  '__repr__',\n",
       "  '__setattr__',\n",
       "  '__sizeof__',\n",
       "  '__slots__',\n",
       "  '__str__',\n",
       "  '__subclasshook__',\n",
       "  '__weakref__',\n",
       "  '_abc_impl',\n",
       "  '_render_children',\n",
       "  'app_spec',\n",
       "  'children',\n",
       "  'element_tree',\n",
       "  'name',\n",
       "  'obj',\n",
       "  'post_render',\n",
       "  'pre_render',\n",
       "  'render'],\n",
       " '_i4': 'app.app_spec',\n",
       " '_4': {'title': 'My app'},\n",
       " '_i5': 'app.element_tree',\n",
       " '_5': App(obj=None, name='My app'),\n",
       " '_i6': 'app',\n",
       " '_6': App(obj=None, name='My app'),\n",
       " '_i7': 'from typing import Literal, Optional\\nfrom front import APP_KEY, RENDERING_KEY, ELEMENT_KEY\\n\\nfrom streamlitfront.elements import FloatSliderInput\\nfrom streamlitfront.base import mk_app\\nfrom streamlitfront.elements.elements import TextInput\\n\\n# BACKEND\\ndef foo(a: int = 1, b: int = 2, c=3):\\n    \"\"\"This is foo. It computes something\"\"\"\\n    return (a * b) + c\\n\\n\\ndef bar(x, greeting):\\n    \"\"\"bar greets its input\"\"\"\\n    return f\\'{greeting} {x}\\'\\n\\n\\ndef confuser(a: int, x: float = 3.14):\\n    return (a ** 2) * x\\n\\n\\ndef proportion(x: int = 100, p: float = 0.5):\\n    return x * p\\n\\n\\n# ======\\n\\nif __name__ == \\'__main__\\':\\n    all_dict = locals()\\n    app = mk_app(\\n        [foo, bar, confuser, proportion],\\n        config={\\n            APP_KEY: {\\'title\\': \\'My app\\'},\\n            RENDERING_KEY: {\\n                # \\'foo\\': {\\n                #     \\'execution\\': {\\'inputs\\': {\\'a\\': {ELEMENT_KEY: TextInput,}},}\\n                # },\\n                \\'proportion\\': {\\n                    \\'execution\\': {\\'inputs\\': {\\'p\\': {ELEMENT_KEY: FloatSliderInput,}},}\\n                }\\n            },\\n        },\\n    )\\n    #app()',\n",
       " 'all_dict': {...},\n",
       " '_i8': 'all_dict'}"
      ]
     },
     "execution_count": 8,
     "metadata": {},
     "output_type": "execute_result"
    }
   ],
   "source": [
    "all_dict"
   ]
  },
  {
   "cell_type": "code",
   "execution_count": 4,
   "metadata": {},
   "outputs": [
    {
     "data": {
      "text/plain": [
       "{'title': 'My app'}"
      ]
     },
     "execution_count": 4,
     "metadata": {},
     "output_type": "execute_result"
    }
   ],
   "source": [
    "app.app_spec"
   ]
  },
  {
   "cell_type": "code",
   "execution_count": 5,
   "metadata": {},
   "outputs": [
    {
     "data": {
      "text/plain": [
       "App(obj=None, name='My app')"
      ]
     },
     "execution_count": 5,
     "metadata": {},
     "output_type": "execute_result"
    }
   ],
   "source": [
    "app.element_tree"
   ]
  },
  {
   "cell_type": "code",
   "execution_count": 6,
   "metadata": {},
   "outputs": [
    {
     "data": {
      "text/plain": [
       "App(obj=None, name='My app')"
      ]
     },
     "execution_count": 6,
     "metadata": {},
     "output_type": "execute_result"
    }
   ],
   "source": [
    "app"
   ]
  },
  {
   "cell_type": "code",
   "execution_count": null,
   "metadata": {},
   "outputs": [],
   "source": []
  }
 ],
 "metadata": {
  "kernelspec": {
   "display_name": "otopy38",
   "language": "python",
   "name": "python3"
  },
  "language_info": {
   "codemirror_mode": {
    "name": "ipython",
    "version": 3
   },
   "file_extension": ".py",
   "mimetype": "text/x-python",
   "name": "python",
   "nbconvert_exporter": "python",
   "pygments_lexer": "ipython3",
   "version": "3.8.11"
  },
  "orig_nbformat": 4,
  "vscode": {
   "interpreter": {
    "hash": "1a569799154504b406baf5195ac89fceebc6fb1ed8aa567618566bf3d18c8582"
   }
  }
 },
 "nbformat": 4,
 "nbformat_minor": 2
}
