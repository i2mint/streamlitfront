{
 "cells": [
  {
   "cell_type": "code",
   "execution_count": 6,
   "source": [
    "from seleniumbase import BaseCase\n",
    "from streamlit import cli as stcli\n",
    "import sys\n",
    "import streamlit as st\n",
    "import time\n",
    "\n",
    "result = \"\"\n",
    "class ComponentsTest(BaseCase):\n",
    "    def test_basic(self):\n",
    "        \n",
    "        self.open(\"http://localhost:8501\")\n",
    "        #result = self.check_window()\n",
    "        result = self.get_page_source()\n",
    "        print(result)\n",
    "        time.sleep(5)\n",
    "        return result\n"
   ],
   "outputs": [],
   "metadata": {}
  },
  {
   "cell_type": "code",
   "execution_count": 7,
   "source": [
    "!pytest"
   ],
   "outputs": [
    {
     "output_type": "stream",
     "name": "stdout",
     "text": [
      "\u001b[1m============================= test session starts ==============================\u001b[0m\u001b[0m\n",
      "\u001b[0mplatform darwin -- Python 3.8.11, pytest-6.2.5, py-1.11.0, pluggy-1.0.0\u001b[0m\n",
      "\u001b[0mrootdir: /Users/sylvain/Desktop/dev/otosense/streamlitfront\u001b[0m\n",
      "\u001b[0mplugins: html-2.0.1, xdist-2.5.0, forked-1.4.0, anyio-3.0.1, hypothesis-6.23.4, Faker-4.14.2, rerunfailures-10.2, pylama-8.3.6, metadata-1.11.0, typeguard-2.13.3, ordering-0.6, seleniumbase-2.4.3\u001b[0m\n",
      "collected 2 items                                                              \u001b[0m\u001b[0m\n",
      "\u001b[0m\n",
      "\u001b[0mtest_app.py \u001b[0m\u001b[32m.\u001b[0m\u001b[0m\u001b[33m                                                            [ 50%]\u001b[0m\u001b[0m\n",
      "\u001b[0mtest_base.py \u001b[0m\u001b[32m.\u001b[0m\u001b[0m\u001b[33m                                                           [100%]\u001b[0m\u001b[0m\n",
      "\u001b[0m\n",
      "\u001b[0m\u001b[33m=============================== warnings summary ===============================\u001b[0m\u001b[0m\n",
      "\u001b[0m../../../../../../opt/anaconda3/envs/otopy38/lib/python3.8/site-packages/pandas/compat/numpy/__init__.py:10\u001b[0m\n",
      "\u001b[0m  /Users/sylvain/opt/anaconda3/envs/otopy38/lib/python3.8/site-packages/pandas/compat/numpy/__init__.py:10: DeprecationWarning: distutils Version classes are deprecated. Use packaging.version instead.\n",
      "    _nlv = LooseVersion(_np_version)\u001b[0m\n",
      "\u001b[0m\n",
      "\u001b[0m../../../../../../opt/anaconda3/envs/otopy38/lib/python3.8/site-packages/pandas/compat/numpy/__init__.py:11\u001b[0m\n",
      "\u001b[0m  /Users/sylvain/opt/anaconda3/envs/otopy38/lib/python3.8/site-packages/pandas/compat/numpy/__init__.py:11: DeprecationWarning: distutils Version classes are deprecated. Use packaging.version instead.\n",
      "    np_version_under1p17 = _nlv < LooseVersion(\"1.17\")\u001b[0m\n",
      "\u001b[0m\n",
      "\u001b[0m../../../../../../opt/anaconda3/envs/otopy38/lib/python3.8/site-packages/pandas/compat/numpy/__init__.py:12\u001b[0m\n",
      "\u001b[0m  /Users/sylvain/opt/anaconda3/envs/otopy38/lib/python3.8/site-packages/pandas/compat/numpy/__init__.py:12: DeprecationWarning: distutils Version classes are deprecated. Use packaging.version instead.\n",
      "    np_version_under1p18 = _nlv < LooseVersion(\"1.18\")\u001b[0m\n",
      "\u001b[0m\n",
      "\u001b[0m../../../../../../opt/anaconda3/envs/otopy38/lib/python3.8/site-packages/pandas/compat/numpy/__init__.py:13\u001b[0m\n",
      "\u001b[0m  /Users/sylvain/opt/anaconda3/envs/otopy38/lib/python3.8/site-packages/pandas/compat/numpy/__init__.py:13: DeprecationWarning: distutils Version classes are deprecated. Use packaging.version instead.\n",
      "    _np_version_under1p19 = _nlv < LooseVersion(\"1.19\")\u001b[0m\n",
      "\u001b[0m\n",
      "\u001b[0m../../../../../../opt/anaconda3/envs/otopy38/lib/python3.8/site-packages/pandas/compat/numpy/__init__.py:14\u001b[0m\n",
      "\u001b[0m  /Users/sylvain/opt/anaconda3/envs/otopy38/lib/python3.8/site-packages/pandas/compat/numpy/__init__.py:14: DeprecationWarning: distutils Version classes are deprecated. Use packaging.version instead.\n",
      "    _np_version_under1p20 = _nlv < LooseVersion(\"1.20\")\u001b[0m\n",
      "\u001b[0m\n",
      "\u001b[0m../../../../../../opt/anaconda3/envs/otopy38/lib/python3.8/site-packages/setuptools/_distutils/version.py:351\n",
      "../../../../../../opt/anaconda3/envs/otopy38/lib/python3.8/site-packages/setuptools/_distutils/version.py:351\n",
      "../../../../../../opt/anaconda3/envs/otopy38/lib/python3.8/site-packages/setuptools/_distutils/version.py:351\n",
      "../../../../../../opt/anaconda3/envs/otopy38/lib/python3.8/site-packages/setuptools/_distutils/version.py:351\n",
      "../../../../../../opt/anaconda3/envs/otopy38/lib/python3.8/site-packages/setuptools/_distutils/version.py:351\n",
      "../../../../../../opt/anaconda3/envs/otopy38/lib/python3.8/site-packages/setuptools/_distutils/version.py:351\u001b[0m\n",
      "\u001b[0m  /Users/sylvain/opt/anaconda3/envs/otopy38/lib/python3.8/site-packages/setuptools/_distutils/version.py:351: DeprecationWarning: distutils Version classes are deprecated. Use packaging.version instead.\n",
      "    other = LooseVersion(other)\u001b[0m\n",
      "\u001b[0m\n",
      "\u001b[0m../../../../../../opt/anaconda3/envs/otopy38/lib/python3.8/site-packages/pandas/compat/numpy/function.py:120\n",
      "../../../../../../opt/anaconda3/envs/otopy38/lib/python3.8/site-packages/pandas/compat/numpy/function.py:120\u001b[0m\n",
      "\u001b[0m  /Users/sylvain/opt/anaconda3/envs/otopy38/lib/python3.8/site-packages/pandas/compat/numpy/function.py:120: DeprecationWarning: distutils Version classes are deprecated. Use packaging.version instead.\n",
      "    if LooseVersion(__version__) >= LooseVersion(\"1.17.0\"):\u001b[0m\n",
      "\u001b[0m\n",
      "\u001b[0m../../../../../../opt/anaconda3/envs/otopy38/lib/python3.8/site-packages/matplotlib/__init__.py:152\n",
      "../../../../../../opt/anaconda3/envs/otopy38/lib/python3.8/site-packages/matplotlib/__init__.py:152\n",
      "../../../../../../opt/anaconda3/envs/otopy38/lib/python3.8/site-packages/matplotlib/__init__.py:152\n",
      "../../../../../../opt/anaconda3/envs/otopy38/lib/python3.8/site-packages/matplotlib/__init__.py:152\n",
      "../../../../../../opt/anaconda3/envs/otopy38/lib/python3.8/site-packages/matplotlib/__init__.py:152\u001b[0m\n",
      "\u001b[0m  /Users/sylvain/opt/anaconda3/envs/otopy38/lib/python3.8/site-packages/matplotlib/__init__.py:152: DeprecationWarning: distutils Version classes are deprecated. Use packaging.version instead.\n",
      "    if LooseVersion(module.__version__) < minver:\u001b[0m\n",
      "\u001b[0m\n",
      "\u001b[0m-- Docs: https://docs.pytest.org/en/stable/warnings.html\u001b[0m\n",
      "\u001b[0m\u001b[33m======================= \u001b[32m2 passed\u001b[0m, \u001b[33m\u001b[1m18 warnings\u001b[0m\u001b[33m in 10.90s\u001b[0m\u001b[33m ========================\u001b[0m\u001b[0m\n",
      "\u001b[0m\u001b[0m"
     ]
    }
   ],
   "metadata": {}
  },
  {
   "cell_type": "code",
   "execution_count": 5,
   "source": [
    "result"
   ],
   "outputs": [
    {
     "output_type": "execute_result",
     "data": {
      "text/plain": [
       "''"
      ]
     },
     "metadata": {},
     "execution_count": 5
    }
   ],
   "metadata": {}
  },
  {
   "cell_type": "code",
   "execution_count": null,
   "source": [],
   "outputs": [],
   "metadata": {}
  }
 ],
 "metadata": {
  "orig_nbformat": 4,
  "language_info": {
   "name": "python",
   "version": "3.8.11",
   "mimetype": "text/x-python",
   "codemirror_mode": {
    "name": "ipython",
    "version": 3
   },
   "pygments_lexer": "ipython3",
   "nbconvert_exporter": "python",
   "file_extension": ".py"
  },
  "kernelspec": {
   "name": "python3",
   "display_name": "Python 3.8.11 64-bit ('otopy38': conda)"
  },
  "interpreter": {
   "hash": "094c189d81026d09b06c18854d442a49d96e55830a4824cf8c6f41ec19877a82"
  }
 },
 "nbformat": 4,
 "nbformat_minor": 2
}